{
  "nbformat": 4,
  "nbformat_minor": 0,
  "metadata": {
    "colab": {
      "name": "Assignment_Week1.ipynb",
      "provenance": [],
      "collapsed_sections": [],
      "authorship_tag": "ABX9TyOuH5HH0Mr1U6sSopMBB4Mc",
      "include_colab_link": true
    },
    "kernelspec": {
      "name": "python3",
      "display_name": "Python 3"
    }
  },
  "cells": [
    {
      "cell_type": "markdown",
      "metadata": {
        "id": "view-in-github",
        "colab_type": "text"
      },
      "source": [
        "<a href=\"https://colab.research.google.com/github/vjsurampudi/padhai-FDS/blob/main/Assignment_Week1.ipynb\" target=\"_parent\"><img src=\"https://colab.research.google.com/assets/colab-badge.svg\" alt=\"Open In Colab\"/></a>"
      ]
    },
    {
      "cell_type": "markdown",
      "metadata": {
        "id": "5aLKMe7vfyud"
      },
      "source": [
        "# Problem 1\r\n",
        "1. Prompt the user \"Enter your weight (in kgs)\" and record weight\r\n",
        "2. Prompt the user \"What is your preferred unit of height? Type \"F\" for feet and \"M\" for meters\"\r\n",
        "and record the preference\r\n",
        "3. If user says \"F\" then prompt user \"You will enter your height given as feet and inches. First\r\n",
        "enter feet\" and record feet and then prompt user \"Now enter inches\" and record inches\r\n",
        "4. If user says \"M\" then prompt user \"What is your height in meters\" and record height in\r\n",
        "meters\r\n",
        "5. If user had chosen \"F\" then convert height into meters\r\n",
        "6. Compute BMI using the following formula: BMI = (Weight in Kgs)/(Height in meters)^2\r\n",
        "7. Depending on the value of BMI, report the user's type given by the following table:\r\n",
        "● BMI < 18.5 : UNDERWEIGHT\r\n",
        "● 18.5 <= BMI < 25 : NORMAL\r\n",
        "● 25 <= BMI < 30 : OVERWEIGHT\r\n",
        "● BMI > 30 : VERY-OVERWEIGHT\r\n"
      ]
    },
    {
      "cell_type": "markdown",
      "metadata": {
        "id": "0cJa-tTeqdpA"
      },
      "source": [
        "##1.Prompt the user \"Enter your weight (in kgs)\" and record weight"
      ]
    },
    {
      "cell_type": "code",
      "metadata": {
        "colab": {
          "base_uri": "https://localhost:8080/"
        },
        "id": "sLExlNJFf9cd",
        "outputId": "9b9e636c-03d3-4ed9-8b31-f87f6929bd0a"
      },
      "source": [
        "weight = input(\"Enter your weight (in kgs)\")"
      ],
      "execution_count": 20,
      "outputs": [
        {
          "output_type": "stream",
          "text": [
            "Enter your weight (in kgs)85\n"
          ],
          "name": "stdout"
        }
      ]
    },
    {
      "cell_type": "code",
      "metadata": {
        "colab": {
          "base_uri": "https://localhost:8080/"
        },
        "id": "Kt976itqg08j",
        "outputId": "1b7aa11c-0d78-4f93-cc6d-c14d8384e423"
      },
      "source": [
        "print(weight)"
      ],
      "execution_count": 25,
      "outputs": [
        {
          "output_type": "stream",
          "text": [
            "85\n"
          ],
          "name": "stdout"
        }
      ]
    },
    {
      "cell_type": "markdown",
      "metadata": {
        "id": "NnbB3_zLqZiR"
      },
      "source": [
        "##2.Prompt the user \"What is your preferred unit of height? Type \"F\" for feet and \"M\" for meters\""
      ]
    },
    {
      "cell_type": "code",
      "metadata": {
        "colab": {
          "base_uri": "https://localhost:8080/"
        },
        "id": "d6XkaC7rgGY5",
        "outputId": "13670aad-fefe-4ebf-beaa-19001b079845"
      },
      "source": [
        "unit_height = input(\"What is your preferred unit of height? Type \"'F'\" for feet and \"'M'\" for meters\")"
      ],
      "execution_count": 23,
      "outputs": [
        {
          "output_type": "stream",
          "text": [
            "What is your preferred unit of height? Type F for feet and M for metersF\n"
          ],
          "name": "stdout"
        }
      ]
    },
    {
      "cell_type": "code",
      "metadata": {
        "colab": {
          "base_uri": "https://localhost:8080/"
        },
        "id": "Cl8-wGDUgyn0",
        "outputId": "80146153-0491-4c09-f434-204f63f5be86"
      },
      "source": [
        "print(unit_height)"
      ],
      "execution_count": 24,
      "outputs": [
        {
          "output_type": "stream",
          "text": [
            "F\n"
          ],
          "name": "stdout"
        }
      ]
    },
    {
      "cell_type": "markdown",
      "metadata": {
        "id": "p8GS3IBlqjlw"
      },
      "source": [
        "## 3.If user says \"F\" then prompt user \"You will enter your height given as feet and inches. First enter feet\" and record feet and then prompt user \"Now enter inches\" and record inches"
      ]
    },
    {
      "cell_type": "code",
      "metadata": {
        "colab": {
          "base_uri": "https://localhost:8080/"
        },
        "id": "2qRnVLb2g3i2",
        "outputId": "adf59cdc-8a09-407b-818f-4cfc9723b9d0"
      },
      "source": [
        "if unit_height == 'F':\r\n",
        "  height_feet = input(\"You will enter your height given as feet and inches. First enter feet\")\r\n",
        "  height_inches = input(\"Now enter inches\")"
      ],
      "execution_count": 27,
      "outputs": [
        {
          "output_type": "stream",
          "text": [
            "You will enter your height given as feet and inches. First enter feet5\n",
            "Now enter inches10\n"
          ],
          "name": "stdout"
        }
      ]
    },
    {
      "cell_type": "markdown",
      "metadata": {
        "id": "vOzQWDI1qr6W"
      },
      "source": [
        "## 4.If user says \"M\" then prompt user \"What is your height in meters\" and record height in meters"
      ]
    },
    {
      "cell_type": "code",
      "metadata": {
        "id": "Pn3_yORjqpey"
      },
      "source": [
        "if unit_height == 'M':\r\n",
        "  height_meters = input(\"What is your height in meters?\")"
      ],
      "execution_count": null,
      "outputs": []
    },
    {
      "cell_type": "code",
      "metadata": {
        "colab": {
          "base_uri": "https://localhost:8080/"
        },
        "id": "GJ_PbEA9iisf",
        "outputId": "b694b53f-e53e-4447-d2ac-38849e692ac6"
      },
      "source": [
        "type(height_feet)"
      ],
      "execution_count": 28,
      "outputs": [
        {
          "output_type": "execute_result",
          "data": {
            "text/plain": [
              "str"
            ]
          },
          "metadata": {
            "tags": []
          },
          "execution_count": 28
        }
      ]
    },
    {
      "cell_type": "markdown",
      "metadata": {
        "id": "wJ5wbBeaqxb_"
      },
      "source": [
        "##5.If user had chosen \"F\" then convert height into meters"
      ]
    },
    {
      "cell_type": "code",
      "metadata": {
        "id": "04AJJMSMg9vN"
      },
      "source": [
        "def convert_feet2meters(height_feet, height_inches):\r\n",
        "  height_feet = int(height_feet)\r\n",
        "  height_inches = int(height_inches)\r\n",
        "  return (height_feet*12 + height_inches)*0.0254"
      ],
      "execution_count": 40,
      "outputs": []
    },
    {
      "cell_type": "code",
      "metadata": {
        "colab": {
          "base_uri": "https://localhost:8080/"
        },
        "id": "UehrBs9HjRDd",
        "outputId": "ca32f2b5-8b9d-43fe-c0e5-d30e03c77c53"
      },
      "source": [
        "if unit_height == 'F':\r\n",
        "  height_meters = convert_feet2meters(height_feet, height_inches)\r\n",
        "print(height_meters)"
      ],
      "execution_count": 66,
      "outputs": [
        {
          "output_type": "stream",
          "text": [
            "1.778\n"
          ],
          "name": "stdout"
        }
      ]
    },
    {
      "cell_type": "markdown",
      "metadata": {
        "id": "KOTxuDdZqIp3"
      },
      "source": [
        "## 6.Compute BMI using the following formula: BMI = (Weight in Kgs)/(Height in meters)^2\r\n"
      ]
    },
    {
      "cell_type": "code",
      "metadata": {
        "id": "Ra1OpeqXj41t"
      },
      "source": [
        "def calculate_bmi(weight_kgs, height_meters):\r\n",
        "  if height_meters != 0:\r\n",
        "    return (int(weight_kgs)/height_meters**2)\r\n",
        "  else:\r\n",
        "    return \"invalid height input\""
      ],
      "execution_count": 37,
      "outputs": []
    },
    {
      "cell_type": "code",
      "metadata": {
        "colab": {
          "base_uri": "https://localhost:8080/"
        },
        "id": "VUibNFp-kdbp",
        "outputId": "bbe86b16-0aa2-47e8-b337-563b7574081a"
      },
      "source": [
        "bmi = calculate_bmi(weight, height_meters)\r\n",
        "print(bmi)"
      ],
      "execution_count": 42,
      "outputs": [
        {
          "output_type": "stream",
          "text": [
            "26.88780887765857\n"
          ],
          "name": "stdout"
        }
      ]
    },
    {
      "cell_type": "markdown",
      "metadata": {
        "id": "dUHLhuecqByL"
      },
      "source": [
        "## 7.Depending on the value of BMI, report the user's type given by the following table: ● BMI < 18.5 : UNDERWEIGHT ● 18.5 <= BMI < 25 : NORMAL ● 25 <= BMI < 30 : OVERWEIGHT ● BMI > 30 : VERY-OVERWEIGHT"
      ]
    },
    {
      "cell_type": "code",
      "metadata": {
        "id": "C3RTR1X5k4dF"
      },
      "source": [
        "def bmi_category(bmi):\r\n",
        "  category = \"Not Assigned\"\r\n",
        "  print(bmi, type(bmi))\r\n",
        "  if bmi < 18.5:\r\n",
        "    category = \"UNDERWEIGHT\"\r\n",
        "  if bmi >= 18.5 and bmi < 25:\r\n",
        "    category = \"NORMAL\"\r\n",
        "  if bmi >= 25 and bmi < 30:\r\n",
        "    category = \"OVERWEIGHT\"\r\n",
        "  if bmi >= 30:\r\n",
        "    category = \"VERY OVERWEIGHT\"\r\n",
        "  return category"
      ],
      "execution_count": 55,
      "outputs": []
    },
    {
      "cell_type": "code",
      "metadata": {
        "colab": {
          "base_uri": "https://localhost:8080/"
        },
        "id": "hNpb2OQHlwqB",
        "outputId": "1040c5b7-7411-4486-8451-5fa6f4e38d3c"
      },
      "source": [
        "print(bmi_category(bmi))"
      ],
      "execution_count": 56,
      "outputs": [
        {
          "output_type": "stream",
          "text": [
            "26.88780887765857 <class 'float'>\n",
            "OVERWEIGHT\n"
          ],
          "name": "stdout"
        }
      ]
    },
    {
      "cell_type": "markdown",
      "metadata": {
        "id": "skHaDJbWmrcf"
      },
      "source": [
        "# Problem 2\r\n",
        "\r\n",
        "1. Write an iterative function to compute the factorial of a natural number\r\n",
        "2. Write a recursive function to compute the factorial of a natural number.\r\n",
        "3. Write a function to compute x^n/n! given a float and natural number as arguments\r\n",
        "4. Write a function to iteratively sum up the value from to a given for a given ,\r\n",
        "i.e., F(x,N) = 1 + sigma(1,N) x^n/n!\r\n",
        "5. Write a function to iteratively sum up the value x^n/n! N' from to a chosen value of such \r\n",
        "that F(x, N') - F(x, N'-1) < e for a given real number N' and positive small number e\r\n",
        "\r\n",
        "6. Choose two real numbers p and q and compute the following two values\r\n",
        " v1 = F(p, 100)* F(q,100)\r\n",
        " v2 = F(p+q, 100)\r\n",
        "Compute the difference v1-v2 and comment on what you see."
      ]
    },
    {
      "cell_type": "markdown",
      "metadata": {
        "id": "NHF028Ddq8O1"
      },
      "source": [
        "## 1.Write an iterative function to compute the factorial of a natural number"
      ]
    },
    {
      "cell_type": "code",
      "metadata": {
        "id": "icqolFdCnvNW"
      },
      "source": [
        "def factorial(n):\r\n",
        "  factorial = 1\r\n",
        "  while n != 1:\r\n",
        "    factorial = n* factorial\r\n",
        "    n = n - 1\r\n",
        "  return factorial"
      ],
      "execution_count": 61,
      "outputs": []
    },
    {
      "cell_type": "code",
      "metadata": {
        "colab": {
          "base_uri": "https://localhost:8080/"
        },
        "id": "kokYPnNOonjP",
        "outputId": "04c79e08-2ee8-4d3d-9327-fd56aa5b2ff2"
      },
      "source": [
        "print(factorial(6))"
      ],
      "execution_count": 65,
      "outputs": [
        {
          "output_type": "stream",
          "text": [
            "720\n"
          ],
          "name": "stdout"
        }
      ]
    },
    {
      "cell_type": "markdown",
      "metadata": {
        "id": "ni49Gy5hq_Wy"
      },
      "source": [
        "##2.Write a recursive function to compute the factorial of a natural number."
      ]
    },
    {
      "cell_type": "code",
      "metadata": {
        "id": "QnYwN_HWrG1k"
      },
      "source": [
        "def factorial_recursive(n):\r\n",
        "  factorial = 1\r\n",
        "  while n != 1:\r\n",
        "    factorial = n * factorial_recursive(n - 1)\r\n",
        "  return factorial"
      ],
      "execution_count": 68,
      "outputs": []
    },
    {
      "cell_type": "code",
      "metadata": {
        "colab": {
          "base_uri": "https://localhost:8080/"
        },
        "id": "ELGiE7hprt1T",
        "outputId": "469feeb8-4464-4cd7-837f-3d4e432597eb"
      },
      "source": [
        "print(factorial(6))"
      ],
      "execution_count": 69,
      "outputs": [
        {
          "output_type": "stream",
          "text": [
            "720\n"
          ],
          "name": "stdout"
        }
      ]
    },
    {
      "cell_type": "markdown",
      "metadata": {
        "id": "JVR3zGVRr2m4"
      },
      "source": [
        "## 3.Write a function to compute x^n/n! given a float and natural number as arguments"
      ]
    },
    {
      "cell_type": "code",
      "metadata": {
        "id": "BD03jLcar5eT"
      },
      "source": [
        "def compute_fn(x: float, n: int):\r\n",
        "  value = (x ** n)/factorial(n)\r\n",
        "  return value"
      ],
      "execution_count": 74,
      "outputs": []
    },
    {
      "cell_type": "code",
      "metadata": {
        "colab": {
          "base_uri": "https://localhost:8080/"
        },
        "id": "xuo3hf_UtXkp",
        "outputId": "68213874-0b13-472c-a19b-1763523967b6"
      },
      "source": [
        "compute_fn(6, 6)"
      ],
      "execution_count": 75,
      "outputs": [
        {
          "output_type": "execute_result",
          "data": {
            "text/plain": [
              "64.8"
            ]
          },
          "metadata": {
            "tags": []
          },
          "execution_count": 75
        }
      ]
    },
    {
      "cell_type": "markdown",
      "metadata": {
        "id": "6N_uB3ZetpWs"
      },
      "source": [
        "## 4.Write a function to iteratively sum up the value from to a given for a given ,\r\n",
        "i.e., F(x,N) = 1 + sigma(1,N) x^n/n!\r\n",
        "![image.png](data:image/png;base64,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)"
      ]
    },
    {
      "cell_type": "code",
      "metadata": {
        "id": "dd0gmdYvuGSF"
      },
      "source": [
        "def fn_computesum(x: float, N: int):\r\n",
        "  n = 1\r\n",
        "  value = 1\r\n",
        "  for i in range(N):\r\n",
        "    value = value + compute_fn(x, n)\r\n",
        "    n = n + 1\r\n",
        "  return value"
      ],
      "execution_count": 92,
      "outputs": []
    },
    {
      "cell_type": "code",
      "metadata": {
        "colab": {
          "base_uri": "https://localhost:8080/"
        },
        "id": "UHM4rXjQt059",
        "outputId": "f1ebf3f9-a3be-49df-c501-7924ab91bd01"
      },
      "source": [
        "fn_computesum(6,7)"
      ],
      "execution_count": 93,
      "outputs": [
        {
          "output_type": "execute_result",
          "data": {
            "text/plain": [
              "300.14285714285717"
            ]
          },
          "metadata": {
            "tags": []
          },
          "execution_count": 93
        }
      ]
    },
    {
      "cell_type": "markdown",
      "metadata": {
        "id": "Z52ZrlWLxIoX"
      },
      "source": [
        "## 5.Write a function to iteratively sum up the value x^n/n! N' from to a chosen value of N' such that F(x, N') - F(x, N'-1) < e for a given real number N' and positive small number e"
      ]
    },
    {
      "cell_type": "code",
      "metadata": {
        "id": "IorTjTNcxHDl"
      },
      "source": [
        "def fn_delta(x: float, e = 0.001):\r\n",
        "  N = 1\r\n",
        "  while (fn_computesum(x, N) - fn_computesum(x, N-1)) > e:\r\n",
        "    N = N+1\r\n",
        "    print (\"N is:\", N, \" error :\", round(fn_computesum(x, N) - fn_computesum(x, N-1),3) )\r\n",
        "  return N"
      ],
      "execution_count": 126,
      "outputs": []
    },
    {
      "cell_type": "code",
      "metadata": {
        "colab": {
          "base_uri": "https://localhost:8080/"
        },
        "id": "WNw1SpQ23zaG",
        "outputId": "a7e3ba85-5705-4127-95f7-76073d2b7424"
      },
      "source": [
        "print(fn_delta(6, 0.001))"
      ],
      "execution_count": 127,
      "outputs": [
        {
          "output_type": "stream",
          "text": [
            "N is: 2  error : 18.0\n",
            "N is: 3  error : 36.0\n",
            "N is: 4  error : 54.0\n",
            "N is: 5  error : 64.8\n",
            "N is: 6  error : 64.8\n",
            "N is: 7  error : 55.543\n",
            "N is: 8  error : 41.657\n",
            "N is: 9  error : 27.771\n",
            "N is: 10  error : 16.663\n",
            "N is: 11  error : 9.089\n",
            "N is: 12  error : 4.544\n",
            "N is: 13  error : 2.097\n",
            "N is: 14  error : 0.899\n",
            "N is: 15  error : 0.36\n",
            "N is: 16  error : 0.135\n",
            "N is: 17  error : 0.048\n",
            "N is: 18  error : 0.016\n",
            "N is: 19  error : 0.005\n",
            "N is: 20  error : 0.002\n",
            "N is: 21  error : 0.0\n",
            "21\n"
          ],
          "name": "stdout"
        }
      ]
    },
    {
      "cell_type": "markdown",
      "metadata": {
        "id": "4dBUkaOGyJX8"
      },
      "source": [
        "## 6.Choose two real numbers p and q and compute the following two values v1 = F(p, 100)* F(q,100) v2 = F(p+q, 100) Compute the difference v1-v2 and comment on what you see."
      ]
    },
    {
      "cell_type": "code",
      "metadata": {
        "colab": {
          "base_uri": "https://localhost:8080/"
        },
        "id": "ufIqYvEEyLyU",
        "outputId": "9da16dfb-4d47-48e9-b515-890477e0e008"
      },
      "source": [
        "v1 = fn_computesum(5, 100)*fn_computesum(6,100)\r\n",
        "print(v1)"
      ],
      "execution_count": 128,
      "outputs": [
        {
          "output_type": "stream",
          "text": [
            "59874.1417151978\n"
          ],
          "name": "stdout"
        }
      ]
    },
    {
      "cell_type": "code",
      "metadata": {
        "colab": {
          "base_uri": "https://localhost:8080/"
        },
        "id": "3liUJJuN4y-o",
        "outputId": "d67d957a-6138-4f6d-b9b6-e902d83801a7"
      },
      "source": [
        "v2 = fn_computesum(11,100)\r\n",
        "print(v2)"
      ],
      "execution_count": 129,
      "outputs": [
        {
          "output_type": "stream",
          "text": [
            "59874.14171519782\n"
          ],
          "name": "stdout"
        }
      ]
    },
    {
      "cell_type": "code",
      "metadata": {
        "colab": {
          "base_uri": "https://localhost:8080/"
        },
        "id": "D5R0VIWH43zO",
        "outputId": "1d9246a2-5944-49ca-a26e-ac11c1a60a82"
      },
      "source": [
        "v1-v2"
      ],
      "execution_count": 130,
      "outputs": [
        {
          "output_type": "execute_result",
          "data": {
            "text/plain": [
              "-1.4551915228366852e-11"
            ]
          },
          "metadata": {
            "tags": []
          },
          "execution_count": 130
        }
      ]
    },
    {
      "cell_type": "markdown",
      "metadata": {
        "id": "afxvG6Gn5ByY"
      },
      "source": [
        "value of v1-v2 is very close to zero"
      ]
    }
  ]
}